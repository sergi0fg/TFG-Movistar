{
 "cells": [
  {
   "cell_type": "code",
   "execution_count": 12,
   "id": "fdc0000e",
   "metadata": {
    "scrolled": false
   },
   "outputs": [],
   "source": [
    "import moviepy.editor as mp\n",
    "import speech_recognition as sr"
   ]
  },
  {
   "cell_type": "code",
   "execution_count": 9,
   "id": "1ccdcfcd",
   "metadata": {},
   "outputs": [],
   "source": [
    "from IPython.display import display\n",
    "import ipywidgets as widgets"
   ]
  },
  {
   "cell_type": "code",
   "execution_count": 16,
   "id": "b2ce911c",
   "metadata": {},
   "outputs": [
    {
     "name": "stdout",
     "output_type": "stream",
     "text": [
      "Requirement already satisfied: moviepy in /Users/sergio/anaconda3/lib/python3.11/site-packages (1.0.3)\n",
      "Requirement already satisfied: decorator<5.0,>=4.0.2 in /Users/sergio/anaconda3/lib/python3.11/site-packages (from moviepy) (4.4.2)\n",
      "Requirement already satisfied: tqdm<5.0,>=4.11.2 in /Users/sergio/anaconda3/lib/python3.11/site-packages (from moviepy) (4.65.0)\n",
      "Requirement already satisfied: requests<3.0,>=2.8.1 in /Users/sergio/anaconda3/lib/python3.11/site-packages (from moviepy) (2.31.0)\n",
      "Requirement already satisfied: proglog<=1.0.0 in /Users/sergio/anaconda3/lib/python3.11/site-packages (from moviepy) (0.1.10)\n",
      "Requirement already satisfied: numpy>=1.17.3 in /Users/sergio/anaconda3/lib/python3.11/site-packages (from moviepy) (1.24.3)\n",
      "Requirement already satisfied: imageio<3.0,>=2.5 in /Users/sergio/anaconda3/lib/python3.11/site-packages (from moviepy) (2.31.1)\n",
      "Requirement already satisfied: imageio-ffmpeg>=0.2.0 in /Users/sergio/anaconda3/lib/python3.11/site-packages (from moviepy) (0.4.9)\n",
      "Requirement already satisfied: pillow>=8.3.2 in /Users/sergio/anaconda3/lib/python3.11/site-packages (from imageio<3.0,>=2.5->moviepy) (9.4.0)\n",
      "Requirement already satisfied: setuptools in /Users/sergio/anaconda3/lib/python3.11/site-packages (from imageio-ffmpeg>=0.2.0->moviepy) (68.0.0)\n",
      "Requirement already satisfied: charset-normalizer<4,>=2 in /Users/sergio/anaconda3/lib/python3.11/site-packages (from requests<3.0,>=2.8.1->moviepy) (2.0.4)\n",
      "Requirement already satisfied: idna<4,>=2.5 in /Users/sergio/anaconda3/lib/python3.11/site-packages (from requests<3.0,>=2.8.1->moviepy) (3.4)\n",
      "Requirement already satisfied: urllib3<3,>=1.21.1 in /Users/sergio/anaconda3/lib/python3.11/site-packages (from requests<3.0,>=2.8.1->moviepy) (1.26.16)\n",
      "Requirement already satisfied: certifi>=2017.4.17 in /Users/sergio/anaconda3/lib/python3.11/site-packages (from requests<3.0,>=2.8.1->moviepy) (2023.7.22)\n",
      "Requirement already satisfied: SpeechRecognition in /Users/sergio/anaconda3/lib/python3.11/site-packages (3.10.3)\n",
      "Requirement already satisfied: requests>=2.26.0 in /Users/sergio/anaconda3/lib/python3.11/site-packages (from SpeechRecognition) (2.31.0)\n",
      "Requirement already satisfied: typing-extensions in /Users/sergio/anaconda3/lib/python3.11/site-packages (from SpeechRecognition) (4.7.1)\n",
      "Requirement already satisfied: charset-normalizer<4,>=2 in /Users/sergio/anaconda3/lib/python3.11/site-packages (from requests>=2.26.0->SpeechRecognition) (2.0.4)\n",
      "Requirement already satisfied: idna<4,>=2.5 in /Users/sergio/anaconda3/lib/python3.11/site-packages (from requests>=2.26.0->SpeechRecognition) (3.4)\n",
      "Requirement already satisfied: urllib3<3,>=1.21.1 in /Users/sergio/anaconda3/lib/python3.11/site-packages (from requests>=2.26.0->SpeechRecognition) (1.26.16)\n",
      "Requirement already satisfied: certifi>=2017.4.17 in /Users/sergio/anaconda3/lib/python3.11/site-packages (from requests>=2.26.0->SpeechRecognition) (2023.7.22)\n",
      "Collecting pyaudio\n",
      "  Using cached PyAudio-0.2.14.tar.gz (47 kB)\n",
      "  Installing build dependencies ... \u001b[?25ldone\n",
      "\u001b[?25h  Getting requirements to build wheel ... \u001b[?25ldone\n",
      "\u001b[?25h  Preparing metadata (pyproject.toml) ... \u001b[?25ldone\n",
      "\u001b[?25hBuilding wheels for collected packages: pyaudio\n",
      "  Building wheel for pyaudio (pyproject.toml) ... \u001b[?25ldone\n",
      "\u001b[?25h  Created wheel for pyaudio: filename=PyAudio-0.2.14-cp311-cp311-macosx_10_9_x86_64.whl size=24130 sha256=b06a00ccc327092fb73e6450923be66fb9506bdb1e3030fa2af6b7795f30356a\n",
      "  Stored in directory: /Users/sergio/Library/Caches/pip/wheels/80/b1/c1/67e4ef443de2665d86031d4760508094eab5de37d5d64d9c27\n",
      "Successfully built pyaudio\n",
      "Installing collected packages: pyaudio\n",
      "Successfully installed pyaudio-0.2.14\n"
     ]
    }
   ],
   "source": [
    "!pip install moviepy\n",
    "!pip install SpeechRecognition\n",
    "!pip install pyaudio\n",
    "\n"
   ]
  },
  {
   "cell_type": "markdown",
   "id": "a73a360e",
   "metadata": {},
   "source": [
    "# SPEECH TO TEXT REAL TIME"
   ]
  },
  {
   "cell_type": "code",
   "execution_count": null,
   "id": "6e9f2c02",
   "metadata": {},
   "outputs": [],
   "source": [
    "import speech_recognition as sr"
   ]
  },
  {
   "cell_type": "code",
   "execution_count": 17,
   "id": "b33e3697",
   "metadata": {},
   "outputs": [
    {
     "name": "stdout",
     "output_type": "stream",
     "text": [
      "Habla ahora ...\n",
      "Procesando ...\n",
      "Texto reconocido:  hola qué tal soy Sergio esto es una prueba\n"
     ]
    }
   ],
   "source": [
    "def speech_to_text() :\n",
    "    recognizer = sr.Recognizer()\n",
    "    \n",
    "    with sr.Microphone() as source:\n",
    "        print(\"Habla ahora ...\")\n",
    "        recognizer.adjust_for_ambient_noise(source)\n",
    "        audio = recognizer.listen(source,timeout = 5)\n",
    "        \n",
    "        try:\n",
    "            print(\"Procesando ...\")\n",
    "            #Utilizo el reconocmiento de voz de Google\n",
    "            text = recognizer.recognize_google(audio, language = \"es-ES\")\n",
    "            print(\"Texto reconocido: \", text)\n",
    "            \n",
    "        except sr.UnknownValueError: \n",
    "            print(\"No se pudo entender el audio\")\n",
    "            \n",
    "        except sr.RequestError as e:\n",
    "            print(f\"Error en la solicitud a Google API: {e}\")\n",
    "            \n",
    "            \n",
    "if __name__ == \"__main__\":\n",
    "    speech_to_text()\n",
    "        \n",
    "        \n",
    "        \n",
    "        "
   ]
  },
  {
   "cell_type": "markdown",
   "id": "968e3019",
   "metadata": {},
   "source": [
    "# FUNCIÓN PARA TRANSCRIBIR EL AUDIO"
   ]
  },
  {
   "cell_type": "code",
   "execution_count": 23,
   "id": "0c8d397c",
   "metadata": {},
   "outputs": [],
   "source": [
    "def transcribe_audio(audio_file):\n",
    "    recognizer = sr.Recognizer()\n",
    "    audio = sr.AudioFile(audio_file)\n",
    "    \n",
    "    with audio as source:\n",
    "        audio_data = recognizer.record(source)\n",
    "        \n",
    "        try:\n",
    "            transcription = recognizer.recognize_google(audio_data, language='en:EN')\n",
    "            return transcription\n",
    "        \n",
    "        except sr.UnknownValueError:\n",
    "            return \"No se pudo transcribir el audio\"\n",
    "        \n",
    "        except sr.RequestError as e:\n",
    "            return f\"Error en la solicitud de transcripción: {e}\"\n",
    "            \n",
    "        #Ruta de los archivos de audio y vídeo    \n",
    "        video_file = 'Kevin Surace_1 Minute Ted Talk.mp4'\n",
    "        audio_file = 'audio_video.wav' \n",
    "        \n",
    "        #Extraigo el audio del vídeo\n",
    "        video = mp.VideoFileClip(video_file)\n",
    "        video.audio.write_audiofile(audio_file)\n",
    "        \n",
    "        #Transcribo el audio\n",
    "        transcription = transcribe_audio(audio_file)\n",
    "        \n",
    "        #Muestro la descripción\n",
    "        print(\"Transcripción del audio: \")\n",
    "        print(transcription)\n",
    "        \n",
    "            "
   ]
  },
  {
   "cell_type": "code",
   "execution_count": 24,
   "id": "602a0c85",
   "metadata": {},
   "outputs": [
    {
     "ename": "NameError",
     "evalue": "name 'transcription' is not defined",
     "output_type": "error",
     "traceback": [
      "\u001b[0;31m---------------------------------------------------------------------------\u001b[0m",
      "\u001b[0;31mNameError\u001b[0m                                 Traceback (most recent call last)",
      "Cell \u001b[0;32mIn[24], line 1\u001b[0m\n\u001b[0;32m----> 1\u001b[0m transcription\n",
      "\u001b[0;31mNameError\u001b[0m: name 'transcription' is not defined"
     ]
    }
   ],
   "source": [
    "transcription"
   ]
  },
  {
   "cell_type": "code",
   "execution_count": null,
   "id": "67247492",
   "metadata": {},
   "outputs": [],
   "source": [
    "output_file = \"Transcription.txt\"\n",
    "#Guardo la transcripción en un archivo de texto\n",
    "with open(output_file, 'w') as f:\n",
    "    f.write(transcription)"
   ]
  },
  {
   "cell_type": "code",
   "execution_count": 1,
   "id": "59af02ae",
   "metadata": {},
   "outputs": [
    {
     "ename": "NameError",
     "evalue": "name 'mp' is not defined",
     "output_type": "error",
     "traceback": [
      "\u001b[0;31m---------------------------------------------------------------------------\u001b[0m",
      "\u001b[0;31mNameError\u001b[0m                                 Traceback (most recent call last)",
      "Cell \u001b[0;32mIn[1], line 7\u001b[0m\n\u001b[1;32m      4\u001b[0m audio_file \u001b[38;5;241m=\u001b[39m \u001b[38;5;124m'\u001b[39m\u001b[38;5;124maudio_video.wav\u001b[39m\u001b[38;5;124m'\u001b[39m\n\u001b[1;32m      6\u001b[0m \u001b[38;5;66;03m#Extraer el audio del video\u001b[39;00m\n\u001b[0;32m----> 7\u001b[0m video \u001b[38;5;241m=\u001b[39m mp\u001b[38;5;241m.\u001b[39mVideoFileClip(video_file)\n\u001b[1;32m      8\u001b[0m video\u001b[38;5;241m.\u001b[39maudio\u001b[38;5;241m.\u001b[39mwrite_audiofile(audio_file)\n\u001b[1;32m     10\u001b[0m \u001b[38;5;66;03m#Mostrar la transcripción\u001b[39;00m\n",
      "\u001b[0;31mNameError\u001b[0m: name 'mp' is not defined"
     ]
    }
   ],
   "source": [
    "#Prueba\n",
    "#Ruta del archivo de video y audio\n",
    "video_file = 'Kevin Surace_ 1 Minute Ted Talk.mp4'\n",
    "audio_file = 'audio_video.wav'\n",
    "\n",
    "#Extraer el audio del video\n",
    "video = mp.VideoFileClip(video_file)\n",
    "video.audio.write_audiofile(audio_file)\n",
    "\n",
    "#Mostrar la transcripción\n",
    "print(\"Transcripción del audio\")\n",
    "print(transcripcion)"
   ]
  },
  {
   "cell_type": "code",
   "execution_count": 2,
   "id": "d08c0c99",
   "metadata": {},
   "outputs": [
    {
     "ename": "NameError",
     "evalue": "name 'transcripcion' is not defined",
     "output_type": "error",
     "traceback": [
      "\u001b[0;31m---------------------------------------------------------------------------\u001b[0m",
      "\u001b[0;31mNameError\u001b[0m                                 Traceback (most recent call last)",
      "Cell \u001b[0;32mIn[2], line 1\u001b[0m\n\u001b[0;32m----> 1\u001b[0m transcripcion\n",
      "\u001b[0;31mNameError\u001b[0m: name 'transcripcion' is not defined"
     ]
    }
   ],
   "source": [
    "transcripcion"
   ]
  },
  {
   "cell_type": "code",
   "execution_count": null,
   "id": "310f8d97",
   "metadata": {},
   "outputs": [],
   "source": []
  }
 ],
 "metadata": {
  "kernelspec": {
   "display_name": "Python 3 (ipykernel)",
   "language": "python",
   "name": "python3"
  },
  "language_info": {
   "codemirror_mode": {
    "name": "ipython",
    "version": 3
   },
   "file_extension": ".py",
   "mimetype": "text/x-python",
   "name": "python",
   "nbconvert_exporter": "python",
   "pygments_lexer": "ipython3",
   "version": "3.11.5"
  }
 },
 "nbformat": 4,
 "nbformat_minor": 5
}
